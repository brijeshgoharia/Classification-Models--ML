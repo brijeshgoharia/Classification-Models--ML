{
 "cells": [
  {
   "cell_type": "code",
   "execution_count": 1,
   "metadata": {},
   "outputs": [],
   "source": [
    "import findspark\n",
    "findspark.init()\n",
    "import pyspark\n",
    "from random import random\n",
    "from pyspark import SparkContext\n",
    "\n",
    "import sys\n",
    "from pyspark.mllib.regression import LabeledPoint\n",
    "from pyspark.mllib.util import MLUtils\n",
    "from pyspark.mllib.classification import SVMWithSGD, SVMModel\n",
    "from pyspark.mllib.linalg import Vectors, SparseVector\n",
    "\n",
    "import numpy as np\n",
    "import re"
   ]
  },
  {
   "cell_type": "code",
   "execution_count": 2,
   "metadata": {},
   "outputs": [
    {
     "name": "stdout",
     "output_type": "stream",
     "text": [
      "4117 sav218\n"
     ]
    }
   ],
   "source": [
    "import os\n",
    "port = 4040 + hash(os.getcwd().split(\"/\")[2])%200\n",
    "config = pyspark.SparkConf().set('spark.executor.memory', '512M')\\\n",
    "         .set('spark.cores.max', '2')\\\n",
    "         .set('spark.port.maxRetries','200')\\\n",
    "         .set('spark.ui.port', port)    \n",
    "print port,     os.getcwd().split(\"/\")[2]"
   ]
  },
  {
   "cell_type": "code",
   "execution_count": 3,
   "metadata": {},
   "outputs": [],
   "source": [
    "sc = pyspark.SparkContext(appName=\"test\", master='spark://polyp1:7077',conf = config )"
   ]
  },
  {
   "cell_type": "code",
   "execution_count": 4,
   "metadata": {},
   "outputs": [],
   "source": [
    "data = sc.textFile(\"/scratch/ISE495/lab6/data/enron.libsvm\")"
   ]
  },
  {
   "cell_type": "code",
   "execution_count": 5,
   "metadata": {},
   "outputs": [
    {
     "name": "stdout",
     "output_type": "stream",
     "text": [
      "[u'14174 0 2354:1 4930:1 16751:2 24305:2 29014:1 49781:1 50345:1 68800:1 71782:1 89812:1 108348:1 114434:1 116870:1 136310:1 148421:1', u'32720 1 128:1 137:1 203:1 975:1 2354:3 2675:1 5702:1 5845:1 6244:1 7515:1 11289:1 13682:1 13963:1 20991:1 21229:1 21779:1 21867:1 21872:1 23186:1 26852:1 27145:2 27704:1 28082:2 29959:1 30171:2 31087:1 31889:1 32720:1 34182:1 36102:1 36182:1 36565:1 36566:1 36591:2 39098:1 41188:1 46618:1 46969:1 47934:1 49551:1 49781:2 50575:2 51860:1 54655:2 55866:1 56324:3 56470:1 58658:1 59008:1 60121:1 60667:1 62775:1 62792:5 65227:1 68004:1 68245:1 68530:2 70199:1 71782:2 74994:1 75959:1 75972:1 80089:1 80241:1 80948:1 84072:1 84787:2 86528:1 86858:1 87285:1 97018:1 100864:1 101332:2 103095:1 103379:1 103506:1 106451:1 107293:1 112087:1 112509:1 112844:1 113425:1 113787:1 114029:2 114434:1 114848:1 116357:1 119133:1 122662:1 123601:1 124257:1 130124:1 130983:1 131255:1 132990:1 134321:1 134837:1 138265:1 144733:1 154296:1 157122:1']\n"
     ]
    }
   ],
   "source": [
    "print data.take(2)"
   ]
  },
  {
   "cell_type": "code",
   "execution_count": 6,
   "metadata": {},
   "outputs": [],
   "source": [
    "def parseData(line):\n",
    "    \n",
    "    s = line.split()\n",
    "    # you should fill this function\n",
    "    label = int(s[1])      \n",
    "    ids=[]\n",
    "    vals=[]\n",
    "    for pair in s[2:]:\n",
    "        pair = pair.split(\":\")\n",
    "        ids.append(int(pair[0]))\n",
    "        vals.append(int(pair[1]))\n",
    "    # After you fill the data into vals, please normalize them. I.e. you should compute \n",
    "    # the sum of squares (norm^2) and then divide each element by the norm  \n",
    "    \n",
    "    \n",
    "    return LabeledPoint(int(label),SparseVector(157309,ids,vals))\n",
    "\n"
   ]
  },
  {
   "cell_type": "code",
   "execution_count": 7,
   "metadata": {},
   "outputs": [],
   "source": [
    "def parseData2(line):\n",
    "    \n",
    "    s = line.split()\n",
    "    # you should fill this function\n",
    "    label = int(s[1])      \n",
    "    ids=[]\n",
    "    vals=[]\n",
    "    for pair in s[2:]:\n",
    "        pair = pair.split(\":\")\n",
    "        ids.append(int(pair[0]))\n",
    "        vals.append(int(pair[1]))\n",
    "    # After you fill the data into vals, please normalize them. I.e. you should compute \n",
    "    # the sum of squares (norm^2) and then divide each element by the norm  \n",
    "    \n",
    "    \n",
    "    return ids"
   ]
  },
  {
   "cell_type": "code",
   "execution_count": 8,
   "metadata": {},
   "outputs": [
    {
     "name": "stdout",
     "output_type": "stream",
     "text": [
      "Testing Error = 0.011567208447\n"
     ]
    }
   ],
   "source": [
    "parsedData = data.map(parseData)\n",
    "\n",
    "  \n",
    "training, test = parsedData.randomSplit( [ 0.6 , 0.4 ] , seed = 11L)\n",
    "\n",
    "\n",
    "# Train the model\n",
    "# Find more information about Spark SVM model at:\n",
    "# http://spark.apache.org/docs/2.0.0/api/python/pyspark.mllib.html#pyspark.mllib.classification.SVMWithSGD\n",
    "\n",
    "model = SVMWithSGD.train(training  )\n",
    "\n",
    "\n",
    "# Evaluating the model on training data\n",
    "labelsAndPreds = test.map(lambda p: (p.label, model.predict(p.features)))\n",
    "testErr = labelsAndPreds.filter(lambda (v, p): v != p).count() / float(parsedData.count())\n",
    "print(\"Testing Error = \" + str(testErr))"
   ]
  },
  {
   "cell_type": "code",
   "execution_count": 9,
   "metadata": {},
   "outputs": [
    {
     "data": {
      "text/plain": [
       "[LabeledPoint(0.0, (157309,[2354,4930,16751,24305,29014,49781,50345,68800,71782,89812,108348,114434,116870,136310,148421],[1.0,1.0,2.0,2.0,1.0,1.0,1.0,1.0,1.0,1.0,1.0,1.0,1.0,1.0,1.0])),\n",
       " LabeledPoint(1.0, (157309,[128,137,203,975,2354,2675,5702,5845,6244,7515,11289,13682,13963,20991,21229,21779,21867,21872,23186,26852,27145,27704,28082,29959,30171,31087,31889,32720,34182,36102,36182,36565,36566,36591,39098,41188,46618,46969,47934,49551,49781,50575,51860,54655,55866,56324,56470,58658,59008,60121,60667,62775,62792,65227,68004,68245,68530,70199,71782,74994,75959,75972,80089,80241,80948,84072,84787,86528,86858,87285,97018,100864,101332,103095,103379,103506,106451,107293,112087,112509,112844,113425,113787,114029,114434,114848,116357,119133,122662,123601,124257,130124,130983,131255,132990,134321,134837,138265,144733,154296,157122],[1.0,1.0,1.0,1.0,3.0,1.0,1.0,1.0,1.0,1.0,1.0,1.0,1.0,1.0,1.0,1.0,1.0,1.0,1.0,1.0,2.0,1.0,2.0,1.0,2.0,1.0,1.0,1.0,1.0,1.0,1.0,1.0,1.0,2.0,1.0,1.0,1.0,1.0,1.0,1.0,2.0,2.0,1.0,2.0,1.0,3.0,1.0,1.0,1.0,1.0,1.0,1.0,5.0,1.0,1.0,1.0,2.0,1.0,2.0,1.0,1.0,1.0,1.0,1.0,1.0,1.0,2.0,1.0,1.0,1.0,1.0,1.0,2.0,1.0,1.0,1.0,1.0,1.0,1.0,1.0,1.0,1.0,1.0,2.0,1.0,1.0,1.0,1.0,1.0,1.0,1.0,1.0,1.0,1.0,1.0,1.0,1.0,1.0,1.0,1.0,1.0]))]"
      ]
     },
     "execution_count": 9,
     "metadata": {},
     "output_type": "execute_result"
    }
   ],
   "source": [
    "training.take(2)"
   ]
  },
  {
   "cell_type": "code",
   "execution_count": 10,
   "metadata": {},
   "outputs": [],
   "source": [
    "parsedData2 = data.map(parseData2)\n",
    "training2, test2 = parsedData2.randomSplit( [ 0.6 , 0.4 ] , seed = 11L)"
   ]
  },
  {
   "cell_type": "code",
   "execution_count": 11,
   "metadata": {},
   "outputs": [],
   "source": [
    "trainData = training2.collect()"
   ]
  },
  {
   "cell_type": "code",
   "execution_count": 12,
   "metadata": {},
   "outputs": [
    {
     "data": {
      "text/plain": [
       "[2354,\n",
       " 4930,\n",
       " 16751,\n",
       " 24305,\n",
       " 29014,\n",
       " 49781,\n",
       " 50345,\n",
       " 68800,\n",
       " 71782,\n",
       " 89812,\n",
       " 108348,\n",
       " 114434,\n",
       " 116870,\n",
       " 136310,\n",
       " 148421]"
      ]
     },
     "execution_count": 12,
     "metadata": {},
     "output_type": "execute_result"
    }
   ],
   "source": [
    "trainData[0]"
   ]
  },
  {
   "cell_type": "code",
   "execution_count": 13,
   "metadata": {},
   "outputs": [],
   "source": [
    "listweig = np.array(model.weights) "
   ]
  },
  {
   "cell_type": "code",
   "execution_count": 14,
   "metadata": {},
   "outputs": [],
   "source": [
    "dicForId = {}\n",
    "m = 0\n",
    "for i in trainData:\n",
    "    for j in i:\n",
    "        dicForId[m] = j\n",
    "        m+=1\n"
   ]
  },
  {
   "cell_type": "code",
   "execution_count": 15,
   "metadata": {},
   "outputs": [],
   "source": [
    "dicForWeigh = {}\n",
    "k = 0\n",
    "for i in listweig:\n",
    "    if k<(len(listweig)-1):\n",
    "        dicForWeigh[i] = k\n",
    "        k+=1"
   ]
  },
  {
   "cell_type": "code",
   "execution_count": 16,
   "metadata": {},
   "outputs": [],
   "source": [
    "sortedList = sorted(listweig)"
   ]
  },
  {
   "cell_type": "code",
   "execution_count": 17,
   "metadata": {},
   "outputs": [],
   "source": [
    "Topneg = sortedList[:21]\n",
    "TopPos = sortedList[-21:]"
   ]
  },
  {
   "cell_type": "code",
   "execution_count": 18,
   "metadata": {},
   "outputs": [],
   "source": [
    "# we will now show the words corresponding to top 20 the most positive values and top 20 the most negative values of w\n",
    "\n",
    "dic={}\n",
    "dicData = open('/scratch/ISE495/lab6/data/dictionary.dat','rU')\n",
    "for line in dicData:  #read the data and build dictionary \"dic\", key=> ID, value = word\n",
    "    x = line.strip(\"\\n\").split(\",\")\n",
    "    dic[x[0]] = x[1]\n",
    "    "
   ]
  },
  {
   "cell_type": "code",
   "execution_count": 19,
   "metadata": {},
   "outputs": [],
   "source": [
    "#Top 20 positive weight words\n",
    "Tpw = []\n",
    "Tpw1 = []\n",
    "words = []\n",
    "for i in TopPos:\n",
    "    Tpw.append(dicForWeigh[i])\n",
    "\n",
    "for i in Tpw:\n",
    "    Tpw1.append(dicForId[i])\n",
    "\n",
    "for i in Tpw1:\n",
    "    u = str(i)\n",
    "    words.append(dic[u])"
   ]
  },
  {
   "cell_type": "code",
   "execution_count": 20,
   "metadata": {},
   "outputs": [
    {
     "data": {
      "text/plain": [
       "['35',\n",
       " 'days',\n",
       " 'want',\n",
       " 'have',\n",
       " 'york',\n",
       " 'two',\n",
       " 'as',\n",
       " 'm',\n",
       " 'aware',\n",
       " 'visit',\n",
       " 'buy',\n",
       " 'advisement',\n",
       " 'nor',\n",
       " 'learn',\n",
       " 'economies',\n",
       " 'email',\n",
       " 'offers',\n",
       " 'clarify',\n",
       " 'think',\n",
       " 'presentation',\n",
       " 'details']"
      ]
     },
     "execution_count": 20,
     "metadata": {},
     "output_type": "execute_result"
    }
   ],
   "source": [
    "e top 20 words which have the larger value\n",
    "words"
   ]
  },
  {
   "cell_type": "code",
   "execution_count": 21,
   "metadata": {},
   "outputs": [],
   "source": [
    "#Top 20 negative weight words\n",
    "Tnw = []\n",
    "Tnw1 = []\n",
    "wordsNeg = []\n",
    "for i in Topneg:\n",
    "    Tnw.append(dicForWeigh[i])\n",
    "\n",
    "for i in Tnw:\n",
    "    Tnw1.append(dicForId[i])\n",
    "\n",
    "for i in Tnw1:\n",
    "    u = str(i)\n",
    "    wordsNeg.append(dic[u])"
   ]
  },
  {
   "cell_type": "code",
   "execution_count": 22,
   "metadata": {},
   "outputs": [
    {
     "data": {
      "text/plain": [
       "['o',\n",
       " 'file',\n",
       " '200',\n",
       " 'deal',\n",
       " 'mail',\n",
       " 'investment',\n",
       " 'approval',\n",
       " 'early',\n",
       " 'which',\n",
       " 'ordered',\n",
       " 'what',\n",
       " 'below',\n",
       " 'tammie',\n",
       " 'they',\n",
       " 'predicated',\n",
       " 'house',\n",
       " 'no',\n",
       " 'we',\n",
       " 'experts',\n",
       " 'smoothing',\n",
       " 'bargain']"
      ]
     },
     "execution_count": 22,
     "metadata": {},
     "output_type": "execute_result"
    }
   ],
   "source": [
    "# print the top 20 words which have the \"smallest\" value (the most negative)\n",
    "wordsNeg"
   ]
  },
  {
   "cell_type": "code",
   "execution_count": 23,
   "metadata": {},
   "outputs": [],
   "source": [
    "# print th\n",
    "\n"
   ]
  },
  {
   "cell_type": "code",
   "execution_count": 24,
   "metadata": {},
   "outputs": [],
   "source": [
    "\n"
   ]
  },
  {
   "cell_type": "code",
   "execution_count": 30,
   "metadata": {},
   "outputs": [
    {
     "name": "stdout",
     "output_type": "stream",
     "text": [
      "Testing Error = 0.186232055997\n"
     ]
    }
   ],
   "source": [
    "# The default \"regularization\" is regParam=0.01 and  intercept=False \n",
    "\n",
    "#  model = SVMWithSGD.train(training, iterations=100,intercept=False, regParam=0.01)\n",
    "\n",
    "# try different value of \"regParam\" and make a plot of training and testing error as function\n",
    "# of \"regParam\".  What can you observer for large values of \"regParam\"? what \n",
    "# about small values of \"regParam\"?\n",
    "\n",
    "parsedData = data.map(parseData)\n",
    "\n",
    "  \n",
    "training, test = parsedData.randomSplit( [ 0.6 , 0.4 ] , seed = 11L)\n",
    "\n",
    "\n",
    "model = SVMWithSGD.train(training, iterations=100,intercept=False, regParam=8)\n",
    "\n",
    "# Evaluating the model on training data\n",
    "labelsAndPreds = test.map(lambda p: (p.label, model.predict(p.features)))\n",
    "testErr = labelsAndPreds.filter(lambda (v, p): v != p).count() / float(parsedData.count())\n",
    "print(\"Testing Error = \" + str(testErr))"
   ]
  },
  {
   "cell_type": "code",
   "execution_count": 27,
   "metadata": {},
   "outputs": [],
   "source": []
  },
  {
   "cell_type": "code",
   "execution_count": 34,
   "metadata": {},
   "outputs": [],
   "source": [
    "regData = [0.0118044845177,0.0117451655001, 0.011567208447,0.0122790366592, 0.0250919444774, 0.0833432198363, 0.115405148891, 0.186232055997]"
   ]
  },
  {
   "cell_type": "code",
   "execution_count": 35,
   "metadata": {},
   "outputs": [],
   "source": [
    "reg = [0.0001,0.001,0.01,0.1, 1, 2, 4, 8]"
   ]
  },
  {
   "cell_type": "code",
   "execution_count": 36,
   "metadata": {},
   "outputs": [],
   "source": [
    "import matplotlib.pyplot as plt"
   ]
  },
  {
   "cell_type": "code",
   "execution_count": 39,
   "metadata": {},
   "outputs": [
    {
     "data": {
      "text/plain": [
       "[<matplotlib.lines.Line2D at 0x7f08902caa90>]"
      ]
     },
     "execution_count": 39,
     "metadata": {},
     "output_type": "execute_result"
    },
    {
     "data": {
      "image/png": "[encoded data removed]",
      "text/plain": [
       "<Figure size 432x288 with 1 Axes>"
      ]
     },
     "metadata": {},
     "output_type": "display_data"
    }
   ],
   "source": [
    "plt.plot(reg, regData) "
   ]
  },
  {
   "cell_type": "code",
   "execution_count": 40,
   "metadata": {},
   "outputs": [],
   "source": [
    "sc.stop()"
   ]
  },
  {
   "cell_type": "code",
   "execution_count": null,
   "metadata": {},
   "outputs": [],
   "source": []
  }
 ],
 "metadata": {
  "kernelspec": {
   "display_name": "Python 2",
   "language": "python",
   "name": "python2"
  },
  "language_info": {
   "codemirror_mode": {
    "name": "ipython",
    "version": 2
   },
   "file_extension": ".py",
   "mimetype": "text/x-python",
   "name": "python",
   "nbconvert_exporter": "python",
   "pygments_lexer": "ipython2",
   "version": "2.7.9"
  }
 },
 "nbformat": 4,
 "nbformat_minor": 2
}
